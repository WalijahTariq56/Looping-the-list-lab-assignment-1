{
 "cells": [
  {
   "cell_type": "markdown",
   "id": "97066253-8b94-4643-a927-5fb7e2045001",
   "metadata": {},
   "source": [
    "#Walijah Tariq\n",
    "#088"
   ]
  },
  {
   "cell_type": "markdown",
   "id": "c5963bf7-56d3-4bfe-b756-35211f1df555",
   "metadata": {},
   "source": [
    "question 1"
   ]
  },
  {
   "cell_type": "code",
   "execution_count": 1,
   "id": "e5d52521-0e87-4a7a-88bd-66c45c1724e1",
   "metadata": {},
   "outputs": [
    {
     "name": "stdout",
     "output_type": "stream",
     "text": [
      "2\n",
      "4\n",
      "6\n",
      "8\n",
      "10\n",
      "12\n",
      "14\n",
      "16\n",
      "18\n",
      "20\n"
     ]
    }
   ],
   "source": [
    "for num in range(2,21,2):\n",
    "    print(num)"
   ]
  },
  {
   "cell_type": "markdown",
   "id": "cbec93ff-cef9-45c4-bcdd-b8368115050f",
   "metadata": {},
   "source": [
    "question 2"
   ]
  },
  {
   "cell_type": "code",
   "execution_count": 2,
   "id": "d73a5cb8-86ac-4236-bb0a-4e63ac295aca",
   "metadata": {},
   "outputs": [
    {
     "name": "stdout",
     "output_type": "stream",
     "text": [
      "REEHAM\n",
      "ZONAASH\n",
      "LAIBA\n",
      "MINAHIL\n"
     ]
    }
   ],
   "source": [
    "names=['Reeham','Zonaash','Laiba','Minahil']\n",
    "for name in names[0:4]:\n",
    "    print(name.upper())"
   ]
  },
  {
   "cell_type": "markdown",
   "id": "dc65ebe3-51f2-433f-a07a-184609408db3",
   "metadata": {},
   "source": [
    "question 3"
   ]
  },
  {
   "cell_type": "code",
   "execution_count": 3,
   "id": "0356b08a-5f9d-4e6d-b15e-6f938a99c14b",
   "metadata": {
    "scrolled": true
   },
   "outputs": [
    {
     "name": "stdout",
     "output_type": "stream",
     "text": [
      "10\n",
      "9\n",
      "8\n",
      "7\n",
      "6\n",
      "5\n",
      "4\n",
      "3\n",
      "2\n",
      "1\n"
     ]
    }
   ],
   "source": [
    "numbers=list(range(1,11))\n",
    "for number in reversed(numbers):\n",
    "    print(number)"
   ]
  },
  {
   "cell_type": "markdown",
   "id": "4fb2dd05-bef2-4400-bf79-92ea322402ba",
   "metadata": {},
   "source": [
    "question 4"
   ]
  },
  {
   "cell_type": "code",
   "execution_count": 4,
   "id": "bb75b383-1858-494d-a048-47d57bcc6f66",
   "metadata": {},
   "outputs": [
    {
     "name": "stdout",
     "output_type": "stream",
     "text": [
      "3\n",
      "6\n",
      "9\n",
      "12\n",
      "15\n"
     ]
    }
   ],
   "source": [
    "numbers=[1,2,3,4,5,6,7,8,9,10,11,12,13,14,15]\n",
    "for num in numbers:\n",
    "    if num%3==0:\n",
    "        print(num)"
   ]
  },
  {
   "cell_type": "markdown",
   "id": "18a4c8e8-d498-43c2-a3d4-c7de68336ce3",
   "metadata": {},
   "source": [
    "question 5"
   ]
  },
  {
   "cell_type": "code",
   "execution_count": 5,
   "id": "47eb1cfd-3217-43ce-ab9e-432e50c64580",
   "metadata": {},
   "outputs": [
    {
     "name": "stdout",
     "output_type": "stream",
     "text": [
      "1\n",
      "4\n",
      "9\n",
      "16\n",
      "25\n",
      "36\n",
      "49\n",
      "64\n",
      "81\n",
      "100\n"
     ]
    }
   ],
   "source": [
    "for square in range(1,11):\n",
    "    print(square**2)"
   ]
  },
  {
   "cell_type": "markdown",
   "id": "9151608d-5680-472d-9296-d439deb8fd9f",
   "metadata": {},
   "source": [
    "question 6"
   ]
  },
  {
   "cell_type": "code",
   "execution_count": 6,
   "id": "7c67553c-b54b-4d6b-b1c4-d8fb53c0077f",
   "metadata": {},
   "outputs": [
    {
     "name": "stdout",
     "output_type": "stream",
     "text": [
      "18°C=64.4°F\n",
      "56°C=132.8°F\n",
      "66°C=150.8°F\n",
      "76°C=168.8°F\n",
      "88°C=190.4°F\n"
     ]
    }
   ],
   "source": [
    "celcius=[18,56,66,76,88]\n",
    "for temp in celcius:\n",
    "    fahrenheit=temp*9/5+32\n",
    "    print(f\"{temp}\\u00B0C={fahrenheit}\\u00B0F\")"
   ]
  },
  {
   "cell_type": "markdown",
   "id": "f1c7d3fb-6427-49c8-a3fb-6382844cf246",
   "metadata": {},
   "source": [
    "question 7"
   ]
  },
  {
   "cell_type": "code",
   "execution_count": 8,
   "id": "40dd120f-a975-4d6b-b0d6-da42c7044bbd",
   "metadata": {},
   "outputs": [
    {
     "name": "stdout",
     "output_type": "stream",
     "text": [
      "5*1=5\n",
      "5*2=10\n",
      "5*3=15\n",
      "5*4=20\n",
      "5*5=25\n",
      "5*6=30\n",
      "5*7=35\n",
      "5*8=40\n",
      "5*9=45\n",
      "5*10=50\n"
     ]
    }
   ],
   "source": [
    "for num in range(1,11):\n",
    "    print(f'5*{num}={num*5}')"
   ]
  },
  {
   "cell_type": "markdown",
   "id": "98997e48-9c5e-48a1-8135-7a2e60391d31",
   "metadata": {},
   "source": [
    "question 8"
   ]
  },
  {
   "cell_type": "code",
   "execution_count": 7,
   "id": "16593fc9-0145-4384-ab1c-dd342d8e5fed",
   "metadata": {},
   "outputs": [
    {
     "name": "stdout",
     "output_type": "stream",
     "text": [
      "263\n"
     ]
    }
   ],
   "source": [
    "numbers=[2,5,8,10,3,7,18,56,66,88]\n",
    "total=0\n",
    "for num in numbers:\n",
    "    total+=num\n",
    "print(total)"
   ]
  },
  {
   "cell_type": "markdown",
   "id": "c79f95b9-98da-43f5-9f42-282db01989e3",
   "metadata": {},
   "source": [
    "question 9"
   ]
  },
  {
   "cell_type": "code",
   "execution_count": 9,
   "id": "5c6300a8-512b-4f5d-a41d-9e046b835718",
   "metadata": {},
   "outputs": [
    {
     "name": "stdout",
     "output_type": "stream",
     "text": [
      "W\n",
      "a\n",
      "l\n",
      "i\n",
      "j\n",
      "a\n",
      "h\n"
     ]
    }
   ],
   "source": [
    "word='Walijah'\n",
    "for ch in word:\n",
    "    print(ch)"
   ]
  },
  {
   "cell_type": "markdown",
   "id": "b0cbfa99-8e66-46d8-a5a6-86a55438f946",
   "metadata": {},
   "source": [
    "question 10"
   ]
  },
  {
   "cell_type": "code",
   "execution_count": 10,
   "id": "ff42a2e0-0f10-484a-8bb6-988e01735c9f",
   "metadata": {},
   "outputs": [
    {
     "name": "stdout",
     "output_type": "stream",
     "text": [
      "banana\n",
      "cricket\n",
      "formula1\n"
     ]
    }
   ],
   "source": [
    "list=['banana','chips','room','cricket','formula1']\n",
    "for names in list:\n",
    "    if len(names)>5:\n",
    "        print(names)"
   ]
  },
  {
   "cell_type": "code",
   "execution_count": null,
   "id": "18217f36-fa61-4b0c-a2c1-85faa0aae948",
   "metadata": {},
   "outputs": [],
   "source": []
  }
 ],
 "metadata": {
  "kernelspec": {
   "display_name": "Python 3 (ipykernel)",
   "language": "python",
   "name": "python3"
  },
  "language_info": {
   "codemirror_mode": {
    "name": "ipython",
    "version": 3
   },
   "file_extension": ".py",
   "mimetype": "text/x-python",
   "name": "python",
   "nbconvert_exporter": "python",
   "pygments_lexer": "ipython3",
   "version": "3.13.5"
  }
 },
 "nbformat": 4,
 "nbformat_minor": 5
}
